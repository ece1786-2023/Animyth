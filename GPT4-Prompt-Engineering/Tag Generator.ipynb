{
 "cells": [
  {
   "cell_type": "code",
   "execution_count": 1,
   "id": "693cdb96",
   "metadata": {},
   "outputs": [],
   "source": [
    "from openai import OpenAI\n",
    "import pandas as pd\n",
    "import os"
   ]
  },
  {
   "cell_type": "code",
   "execution_count": 3,
   "id": "656359a3",
   "metadata": {},
   "outputs": [
    {
     "data": {
      "text/html": [
       "<div>\n",
       "<style scoped>\n",
       "    .dataframe tbody tr th:only-of-type {\n",
       "        vertical-align: middle;\n",
       "    }\n",
       "\n",
       "    .dataframe tbody tr th {\n",
       "        vertical-align: top;\n",
       "    }\n",
       "\n",
       "    .dataframe thead th {\n",
       "        text-align: right;\n",
       "    }\n",
       "</style>\n",
       "<table border=\"1\" class=\"dataframe\">\n",
       "  <thead>\n",
       "    <tr style=\"text-align: right;\">\n",
       "      <th></th>\n",
       "      <th>Input Sentences</th>\n",
       "    </tr>\n",
       "  </thead>\n",
       "  <tbody>\n",
       "    <tr>\n",
       "      <th>0</th>\n",
       "      <td>A pixel-styled sprite sheet of a girl with sho...</td>\n",
       "    </tr>\n",
       "    <tr>\n",
       "      <th>1</th>\n",
       "      <td>A pixel-styled sprite sheet of a girl with red...</td>\n",
       "    </tr>\n",
       "    <tr>\n",
       "      <th>2</th>\n",
       "      <td>A pixel-styled sprite sheet of a boy with whit...</td>\n",
       "    </tr>\n",
       "    <tr>\n",
       "      <th>3</th>\n",
       "      <td>A pixel-styled sprite sheet of a boy with a gr...</td>\n",
       "    </tr>\n",
       "    <tr>\n",
       "      <th>4</th>\n",
       "      <td>A pixel-styled sprite sheet of a girl with lon...</td>\n",
       "    </tr>\n",
       "    <tr>\n",
       "      <th>5</th>\n",
       "      <td>A pixel-styled sprite sheet of a robot with sl...</td>\n",
       "    </tr>\n",
       "    <tr>\n",
       "      <th>6</th>\n",
       "      <td>A pixel-styled sprite sheet of an elderly man ...</td>\n",
       "    </tr>\n",
       "    <tr>\n",
       "      <th>7</th>\n",
       "      <td>A pixel-styled sprite sheet of a young girl wi...</td>\n",
       "    </tr>\n",
       "  </tbody>\n",
       "</table>\n",
       "</div>"
      ],
      "text/plain": [
       "                                     Input Sentences\n",
       "0  A pixel-styled sprite sheet of a girl with sho...\n",
       "1  A pixel-styled sprite sheet of a girl with red...\n",
       "2  A pixel-styled sprite sheet of a boy with whit...\n",
       "3  A pixel-styled sprite sheet of a boy with a gr...\n",
       "4  A pixel-styled sprite sheet of a girl with lon...\n",
       "5  A pixel-styled sprite sheet of a robot with sl...\n",
       "6  A pixel-styled sprite sheet of an elderly man ...\n",
       "7  A pixel-styled sprite sheet of a young girl wi..."
      ]
     },
     "execution_count": 3,
     "metadata": {},
     "output_type": "execute_result"
    }
   ],
   "source": [
    "df = pd.read_csv('/Users/houzexu/Documents/GitHub/Animyth/GPT4-Prompt-Engineering/characters_description.csv')\n",
    "df"
   ]
  },
  {
   "cell_type": "code",
   "execution_count": 10,
   "id": "0165012b",
   "metadata": {
    "scrolled": true
   },
   "outputs": [
    {
     "name": "stderr",
     "output_type": "stream",
     "text": [
      "/var/folders/hp/vtl336vx32v4yh72vtq7w6mw0000gn/T/ipykernel_45403/3724685955.py:17: FutureWarning: The frame.append method is deprecated and will be removed from pandas in a future version. Use pandas.concat instead.\n",
      "  df_characters_out = df_characters_out.append({'Characters': completion.choices[0].message.content}, ignore_index=True)\n"
     ]
    },
    {
     "name": "stdout",
     "output_type": "stream",
     "text": [
      "'pixel, pixel art, pixelart, xiangsu, xiang su, 8bit, 16bit, full body, (solid background:2), 1girl, short hair, side view, masterpiece, best quality, <lora:pixel sprites:1>, black hoodie'\n"
     ]
    },
    {
     "name": "stderr",
     "output_type": "stream",
     "text": [
      "/var/folders/hp/vtl336vx32v4yh72vtq7w6mw0000gn/T/ipykernel_45403/3724685955.py:17: FutureWarning: The frame.append method is deprecated and will be removed from pandas in a future version. Use pandas.concat instead.\n",
      "  df_characters_out = df_characters_out.append({'Characters': completion.choices[0].message.content}, ignore_index=True)\n"
     ]
    },
    {
     "name": "stdout",
     "output_type": "stream",
     "text": [
      "'pixel, pixel art, pixelart, xiangsu, xiang su, 8bit, 16bit, full body, (solid background:2), 1girl, side view, masterpiece, best quality, <lora:pixel sprites:1>, red short hair, black shoes'\n"
     ]
    },
    {
     "name": "stderr",
     "output_type": "stream",
     "text": [
      "/var/folders/hp/vtl336vx32v4yh72vtq7w6mw0000gn/T/ipykernel_45403/3724685955.py:17: FutureWarning: The frame.append method is deprecated and will be removed from pandas in a future version. Use pandas.concat instead.\n",
      "  df_characters_out = df_characters_out.append({'Characters': completion.choices[0].message.content}, ignore_index=True)\n"
     ]
    },
    {
     "name": "stdout",
     "output_type": "stream",
     "text": [
      "'pixel,pixel art,pixelart,xiangsu,xiang su, 8bit, 16bit, full body, (solid background:2), 1boy, side view, masterpiece, best quality, <lora:pixel sprites:1>, white hoodie, jeans'\n"
     ]
    },
    {
     "name": "stderr",
     "output_type": "stream",
     "text": [
      "/var/folders/hp/vtl336vx32v4yh72vtq7w6mw0000gn/T/ipykernel_45403/3724685955.py:17: FutureWarning: The frame.append method is deprecated and will be removed from pandas in a future version. Use pandas.concat instead.\n",
      "  df_characters_out = df_characters_out.append({'Characters': completion.choices[0].message.content}, ignore_index=True)\n"
     ]
    },
    {
     "name": "stdout",
     "output_type": "stream",
     "text": [
      "'pixel, pixel art, pixelart, xiangsu, xiang su, 8bit, 16bit, full body, (solid background:2), side view, masterpiece, best quality, <lora:pixel sprites:1>, 1boy, green cap, overalls'\n"
     ]
    },
    {
     "name": "stderr",
     "output_type": "stream",
     "text": [
      "/var/folders/hp/vtl336vx32v4yh72vtq7w6mw0000gn/T/ipykernel_45403/3724685955.py:17: FutureWarning: The frame.append method is deprecated and will be removed from pandas in a future version. Use pandas.concat instead.\n",
      "  df_characters_out = df_characters_out.append({'Characters': completion.choices[0].message.content}, ignore_index=True)\n"
     ]
    },
    {
     "name": "stdout",
     "output_type": "stream",
     "text": [
      "'pixel, pixel art, pixelart, xiangsu, xiang su, 8bit, 16bit, full body, (solid background:2), 1girl, side view, masterpiece, best quality, <lora:pixel sprites:1>, long purple hair, magician attire'\n"
     ]
    },
    {
     "name": "stderr",
     "output_type": "stream",
     "text": [
      "/var/folders/hp/vtl336vx32v4yh72vtq7w6mw0000gn/T/ipykernel_45403/3724685955.py:17: FutureWarning: The frame.append method is deprecated and will be removed from pandas in a future version. Use pandas.concat instead.\n",
      "  df_characters_out = df_characters_out.append({'Characters': completion.choices[0].message.content}, ignore_index=True)\n"
     ]
    },
    {
     "name": "stdout",
     "output_type": "stream",
     "text": [
      "'pixel, pixel art, pixelart, xiangsu, xiang su, 8bit, 16bit, full body, (solid background:2), side view, masterpiece, best quality, <lora:pixel sprites:1>, robot, sleek design, silver robot, blue accents, metallic finish, modern look'\n"
     ]
    },
    {
     "name": "stderr",
     "output_type": "stream",
     "text": [
      "/var/folders/hp/vtl336vx32v4yh72vtq7w6mw0000gn/T/ipykernel_45403/3724685955.py:17: FutureWarning: The frame.append method is deprecated and will be removed from pandas in a future version. Use pandas.concat instead.\n",
      "  df_characters_out = df_characters_out.append({'Characters': completion.choices[0].message.content}, ignore_index=True)\n"
     ]
    },
    {
     "name": "stdout",
     "output_type": "stream",
     "text": [
      "'pixel, pixel art, pixelart, xiangsu, xiang su, 8bit, 16bit, full body, (solid background:2), 1boy, side view, masterpiece, best quality, <lora:pixel sprites:1>, elderly man, white beard, grey vest'\n",
      "'pixel, pixel art, pixelart, xiangsu, xiang su, 8bit, 16bit, full body, (solid background:2), 1girl, side view, masterpiece, best quality, <lora:pixel sprites:1>, pigtails, yellow dress'\n"
     ]
    },
    {
     "name": "stderr",
     "output_type": "stream",
     "text": [
      "/var/folders/hp/vtl336vx32v4yh72vtq7w6mw0000gn/T/ipykernel_45403/3724685955.py:17: FutureWarning: The frame.append method is deprecated and will be removed from pandas in a future version. Use pandas.concat instead.\n",
      "  df_characters_out = df_characters_out.append({'Characters': completion.choices[0].message.content}, ignore_index=True)\n"
     ]
    }
   ],
   "source": [
    "df_characters_out = pd.DataFrame(columns=['Characters'])\n",
    "client = OpenAI()\n",
    "for i in range(len(df)):\n",
    "    completion = client.chat.completions.create(\n",
    "        model=\"gpt-4\",\n",
    "        messages=[\n",
    "            {\"role\": \"system\", \"content\": \"This is my input example\\\n",
    "            'A pixel-styled sprite sheet of a boy wearing white hoodie and black shorts'\\\n",
    "            output should look like\\\n",
    "            'pixel,pixel art,pixelart,xiangsu,xiang su, 8bit, 16bit, full body, (solid background:2), 1boy, side view, masterpiece, best quality, <lora:pixel sprites:1>, white hoodie, black shorts'\\\n",
    "            You may add your own tags to enhance the appearance of the character like the colour of hair or clothes.\\\n",
    "            Always include “pixel, pixel art, pixelart, xiangsu, xiang su, 8bit, 16bit, full body, (solid background:2), side view, masterpiece, best quality, <lora:pixel sprites:1>” in the output.\\\n",
    "            If it is a girl or a boy, you should say 1girl or 1boy\"},\n",
    "        {\"role\": \"user\", \"content\": df['Input Sentences'][i]}\n",
    "    ]\n",
    ")\n",
    "    df_characters_out = df_characters_out.append({'Characters': completion.choices[0].message.content}, ignore_index=True)\n",
    "    print(completion.choices[0].message.content)"
   ]
  },
  {
   "cell_type": "code",
   "execution_count": 12,
   "id": "edf49e45",
   "metadata": {},
   "outputs": [],
   "source": [
    "# Save the DataFrame to a CSV file\n",
    "df_characters_out.to_csv('out_sentences.csv', index=False)"
   ]
  }
 ],
 "metadata": {
  "kernelspec": {
   "display_name": "base",
   "language": "python",
   "name": "python3"
  },
  "language_info": {
   "codemirror_mode": {
    "name": "ipython",
    "version": 3
   },
   "file_extension": ".py",
   "mimetype": "text/x-python",
   "name": "python",
   "nbconvert_exporter": "python",
   "pygments_lexer": "ipython3",
   "version": "3.9.13"
  },
  "vscode": {
   "interpreter": {
    "hash": "f40b8705ee11c57c89ca4728e042be91c0c21080c4e83afe7340c34cef1e7ca5"
   }
  }
 },
 "nbformat": 4,
 "nbformat_minor": 5
}
