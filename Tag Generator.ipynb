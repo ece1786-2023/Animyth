{
 "cells": [
  {
   "cell_type": "code",
   "execution_count": 4,
   "id": "693cdb96",
   "metadata": {},
   "outputs": [],
   "source": [
    "from openai import OpenAI\n",
    "import pandas as pd\n",
    "import os"
   ]
  },
  {
   "cell_type": "code",
   "execution_count": 6,
   "id": "5861ae0f",
   "metadata": {},
   "outputs": [],
   "source": [
    "# List of sentences\n",
    "sentences = [\"A pixel-styled sprite sheet of a girl with short hair and black hoodie, idle\",\\\n",
    "             \"A pixel-styled sprite sheet of a girl with short hair and black hoodie, jump\",\\\n",
    "             \"A pixel-styled sprite sheet of a girl with short hair and black hoodie, run\",\\\n",
    "             \"A pixel-styled sprite sheet of a girl with red short hair and helmet, idle\",\\\n",
    "             \"A pixel-styled sprite sheet of a girl with red short hair and helmet, jump\",\\\n",
    "             \"A pixel-styled sprite sheet of a girl with red short hair and helmet, run\",\\\n",
    "             \"A pixel-styled sprite sheet of a boy with white hoodie and jeans, idle\",\\\n",
    "             \"A pixel-styled sprite sheet of a boy with white hoodie and jeans, jump\",\\\n",
    "             \"A pixel-styled sprite sheet of a boy with white hoodie and jeans, run\",\\\n",
    "             \"A pixel-styled sprite of a boy with a green cap and overalls, idle\",\\\n",
    "             \"A pixel-styled sprite of a boy with a green cap and overalls, jump\",\\\n",
    "             \"A pixel-styled sprite of a boy with a green cap and overalls, run\",\\\n",
    "             \"A pixel-styled sprite of a girl with long purple hair and a magician's attire, idle\",\\\n",
    "             \"A pixel-styled sprite of a girl with long purple hair and a magician's attire, jump\",\\\n",
    "             \"A pixel-styled sprite of a girl with long purple hair and a magician's attire, run\",\\\n",
    "             \"A pixel-styled sprite of a robot with sleek silver Design and blue accents, idle\",\\\n",
    "             \"A pixel-styled sprite of a robot with sleek silver Design and blue accents, jump\",\\\n",
    "             \"A pixel-styled sprite of a robot with sleek silver Design and blue accents, run\",\\\n",
    "             \"A pixel-styled sprite of an elderly man with a white beard and a fishing vest, idle\",\\\n",
    "             \"A pixel-styled sprite of an elderly man with a white beard and a fishing vest, jump\",\\\n",
    "             \"A pixel-styled sprite of an elderly man with a white beard and a fishing vest, run\",\\\n",
    "             \"A pixel-styled sprite of a young girl with pigtails and a bright yellow dress, idle\",\\\n",
    "             \"A pixel-styled sprite of a young girl with pigtails and a bright yellow dress, jump\",\\\n",
    "             \"A pixel-styled sprite of a young girl with pigtails and a bright yellow dress, run\"]\n",
    "\n",
    "# Creating the DataFrame\n",
    "df = pd.DataFrame(sentences, columns=['Input Sentences'])\n",
    "\n",
    "# Save the DataFrame to a CSV file\n",
    "df.to_csv('sprite_sheet_input.csv', index=False)"
   ]
  },
  {
   "cell_type": "code",
   "execution_count": 9,
   "id": "0165012b",
   "metadata": {
    "scrolled": true
   },
   "outputs": [
    {
     "name": "stdout",
     "output_type": "stream",
     "text": [
      "'pixel,pixel art,pixelart,xiangsu,xiang su,8bit,16bit,full body,(((solid background))),side view,masterpiece,best quality,1girl,short hair,black hoodie,idle'\n",
      "'pixel,pixel art,pixelart,xiangsu,xiang su, 8bit, 16bit, full body,(((solid background))),1girl, side view, short hair, black hoodie, masterpiece,best,quality, jump'\n",
      "'pixel, pixel art, pixelart, xiangsu, xiang su, 8bit, 16bit, full body, (((solid background))), 1girl, side view, short hair, black hoodie, masterpiece, best quality, run'\n",
      "'pixel, pixel art, pixelart, xiangsu, xiang su, 8bit, 16bit, full body, (((solid background))), side view, masterpiece, best quality, 1girl, short hair, red hair, helmet, idle'\n",
      "'pixel, pixel art, pixelart, xiangsu, xiang su, 8bit, 16bit, full body, (((solid background))), 1girl, side view, masterpiece, best quality, red hair, short hair, helmet, jump'\n",
      "'pixel,pixel art,pixelart,xiangsu,xiang su, 8bit, 16bit, full body,(((solid background))),1girl, side view, masterpiece,best,quality, red short hair, helmet, run'\n",
      "'pixel,pixel art,pixelart,xiangsu,xiang su, 8bit, 16bit, full body,(((solid background))),1boy, side view, masterpiece,best,quality, white hoodie, jeans, idle'\n",
      "'pixel,pixel art,pixelart,xiangsu,xiang su,8bit,16bit,full body,(((solid background))),1boy,side view,masterpiece,best,quality,white hoodie,jeans,jump'\n",
      "'pixel,pixel art,pixelart,xiangsu,xiang su, 8bit, 16bit, full body,(((solid background))),1boy, side view, masterpiece,best,quality, white hoodie, jeans, run'\n",
      "'pixel, pixel art, pixelart, xiangsu, xiang su, 8bit, 16bit, full body, (((solid background))), side view, masterpiece, best quality, green cap, overalls, 1boy, idle'\n",
      "'pixel,pixel art,pixelart,xiangsu,xiang su, 8bit, 16bit, full body,(((solid background))),1boy, side view, masterpiece,best quality, green cap, overalls, jump'\n",
      "'pixel,pixel art,pixelart,xiangsu,xiang su,8bit,16bit,full body,(((solid background))),1boy,side view,masterpiece,best quality,green cap,overalls,run'\n",
      "'pixel,pixel art,pixelart,xiangsu,xiang su, 8bit, 16bit, full body,(((solid background))),side view, masterpiece,best,quality, 1girl, long purple hair, magician attire, idle'\n",
      "'pixel,pixel art,pixelart,xiangsu,xiang su,8bit,16bit,full body,(((solid background))),1girl,side view,masterpiece,best quality,long purple hair,magician attire,jump'\n",
      "'pixel,pixel art,pixelart,xiangsu,xiang su,8bit,16bit,full body,(((solid background))),1girl, side view, masterpiece,best,quality, long purple hair, magician's attire, run'\n",
      "'pixel, pixel art, pixelart, xiangsu, xiang su, 8bit, 16bit, full body, (((solid background))), side view, masterpiece, best quality, silver, blue, robot, sleek design, blue accents, idle'\n",
      "'pixel, pixel art, pixelart, xiangsu, xiang su, 8bit, 16bit, full body, (((solid background))), side view, masterpiece, best quality, sleek design, silver robot, blue accents, jump'\n",
      "'pixel,pixel art,pixelart,xiangsu,xiang su,8bit, 16bit, full body,(((solid background))),1robot,side view,masterpiece,best quality,silver robot,sleek design,blue accents,run'\n",
      "'pixel,pixel art,pixelart,xiangsu,xiang su,8bit,16bit,full body,(((solid background))),side view,masterpiece,best quality,1man, elderly, white beard, fishing vest, idle'\n",
      "'pixel,pixel art,pixelart,xiangsu,xiang su, 8bit, 16bit, full body,(((solid background))),side view, masterpiece,best,quality, elderly man, white beard, fishing vest, jump'\n",
      "'pixel,pixel art,pixelart,xiangsu,xiang su,8bit,16bit,full body,(((solid background))),side view,masterpiece,best quality,1man,elderly man,white beard,fishing vest,run'\n",
      "'pixel,pixel art,pixelart,xiangsu,xiang su,8bit,16bit, full body,(((solid background))), side view, masterpiece, best quality, 1girl, pigtails, yellow dress, idle'\n",
      "'pixel,pixel art,pixelart,xiangsu,xiang su, 8bit, 16bit, full body,(((solid background))), side view, masterpiece, best quality, pigtails, bright yellow dress, 1girl, jump'\n",
      "'pixel,pixel art,pixelart,xiangsu,xiang su, 8bit, 16bit, full body,(((solid background))),side view, masterpiece,best quality, 1girl, pigtails, yellow dress, run'\n"
     ]
    }
   ],
   "source": [
    "client = OpenAI()\n",
    "for i in range(len(df)):\n",
    "    completion = client.chat.completions.create(\n",
    "        model=\"gpt-4\",\n",
    "        messages=[\n",
    "            {\"role\": \"system\", \"content\": \"This is my input example\\\n",
    "            'A pixel-styled sprite sheet of a boy wearing white hoodie and black shorts, run'\\\n",
    "            output should look like\\\n",
    "            'pixel,pixel art,pixelart,xiangsu,xiang su, full body,(((solid background))),1boy, side view, masterpiece,best,quality, white hoodie, black shorts, run'\\\n",
    "            You may add your own tags to enhance the appearance of the character like the colour of hair or clothes.\\\n",
    "            If 'idle', 'jump', 'run', put them at the end of the output sentence.\\\n",
    "            Always include “pixel, pixel art, pixelart, xiangsu, xiang su, 8bit, 16bit, full body, (((solid background))), side view, masterpiece, best quality” in the output.\\\n",
    "            If it is a girl or a boy, you should say 1girl or 1boy\"},\n",
    "        {\"role\": \"user\", \"content\": df['Input Sentences'][i]}\n",
    "    ]\n",
    ")\n",
    "    print(completion.choices[0].message.content)"
   ]
  },
  {
   "cell_type": "code",
   "execution_count": 11,
   "id": "edf49e45",
   "metadata": {},
   "outputs": [],
   "source": [
    "output_sentences = ['pixel,pixel art,pixelart,xiangsu,xiang su,8bit,16bit,full body,(((solid background))),side view,masterpiece,best quality,1girl,short hair,black hoodie,idle',\\\n",
    "'pixel,pixel art,pixelart,xiangsu,xiang su, 8bit, 16bit, full body,(((solid background))),1girl, side view, short hair, black hoodie, masterpiece,best,quality, jump',\\\n",
    "'pixel, pixel art, pixelart, xiangsu, xiang su, 8bit, 16bit, full body, (((solid background))), 1girl, side view, short hair, black hoodie, masterpiece, best quality, run',\\\n",
    "'pixel, pixel art, pixelart, xiangsu, xiang su, 8bit, 16bit, full body, (((solid background))), side view, masterpiece, best quality, 1girl, short hair, red hair, helmet, idle',\\\n",
    "'pixel, pixel art, pixelart, xiangsu, xiang su, 8bit, 16bit, full body, (((solid background))), 1girl, side view, masterpiece, best quality, red hair, short hair, helmet, jump',\\\n",
    "'pixel,pixel art,pixelart,xiangsu,xiang su, 8bit, 16bit, full body,(((solid background))),1girl, side view, masterpiece,best,quality, red short hair, helmet, run',\\\n",
    "'pixel,pixel art,pixelart,xiangsu,xiang su, 8bit, 16bit, full body,(((solid background))),1boy, side view, masterpiece,best,quality, white hoodie, jeans, idle',\\\n",
    "'pixel,pixel art,pixelart,xiangsu,xiang su,8bit,16bit,full body,(((solid background))),1boy,side view,masterpiece,best,quality,white hoodie,jeans,jump',\\\n",
    "'pixel,pixel art,pixelart,xiangsu,xiang su, 8bit, 16bit, full body,(((solid background))),1boy, side view, masterpiece,best,quality, white hoodie, jeans, run',\\\n",
    "'pixel, pixel art, pixelart, xiangsu, xiang su, 8bit, 16bit, full body, (((solid background))), side view, masterpiece, best quality, green cap, overalls, 1boy, idle',\\\n",
    "'pixel,pixel art,pixelart,xiangsu,xiang su, 8bit, 16bit, full body,(((solid background))),1boy, side view, masterpiece,best quality, green cap, overalls, jump',\\\n",
    "'pixel,pixel art,pixelart,xiangsu,xiang su,8bit,16bit,full body,(((solid background))),1boy,side view,masterpiece,best quality,green cap,overalls,run',\\\n",
    "'pixel,pixel art,pixelart,xiangsu,xiang su, 8bit, 16bit, full body,(((solid background))),side view, masterpiece,best,quality, 1girl, long purple hair, magician attire, idle',\\\n",
    "'pixel,pixel art,pixelart,xiangsu,xiang su,8bit,16bit,full body,(((solid background))),1girl,side view,masterpiece,best quality,long purple hair,magician attire,jump',\\\n",
    "\"pixel,pixel art,pixelart,xiangsu,xiang su,8bit,16bit,full body,(((solid background))),1girl, side view, masterpiece,best,quality, long purple hair, magician's attire, run\",\\\n",
    "'pixel, pixel art, pixelart, xiangsu, xiang su, 8bit, 16bit, full body, (((solid background))), side view, masterpiece, best quality, silver, blue, robot, sleek design, blue accents, idle',\\\n",
    "'pixel, pixel art, pixelart, xiangsu, xiang su, 8bit, 16bit, full body, (((solid background))), side view, masterpiece, best quality, sleek design, silver robot, blue accents, jump',\\\n",
    "'pixel,pixel art,pixelart,xiangsu,xiang su,8bit, 16bit, full body,(((solid background))),1robot,side view,masterpiece,best quality,silver robot,sleek design,blue accents,run',\\\n",
    "'pixel,pixel art,pixelart,xiangsu,xiang su,8bit,16bit,full body,(((solid background))),side view,masterpiece,best quality,1man, elderly, white beard, fishing vest, idle',\\\n",
    "'pixel,pixel art,pixelart,xiangsu,xiang su, 8bit, 16bit, full body,(((solid background))),side view, masterpiece,best,quality, elderly man, white beard, fishing vest, jump',\\\n",
    "'pixel,pixel art,pixelart,xiangsu,xiang su,8bit,16bit,full body,(((solid background))),side view,masterpiece,best quality,1man,elderly man,white beard,fishing vest,run',\\\n",
    "'pixel,pixel art,pixelart,xiangsu,xiang su,8bit,16bit, full body,(((solid background))), side view, masterpiece, best quality, 1girl, pigtails, yellow dress, idle',\\\n",
    "'pixel,pixel art,pixelart,xiangsu,xiang su, 8bit, 16bit, full body,(((solid background))), side view, masterpiece, best quality, pigtails, bright yellow dress, 1girl, jump',\\\n",
    "'pixel,pixel art,pixelart,xiangsu,xiang su, 8bit, 16bit, full body,(((solid background))),side view, masterpiece,best quality, 1girl, pigtails, yellow dress, run',\\\n",
    "    \n",
    "]\n",
    "\n",
    "# Creating the DataFrame\n",
    "df_output = pd.DataFrame(output_sentences, columns=['Output Sentences'])\n",
    "\n",
    "# Save the DataFrame to a CSV file\n",
    "df_output.to_csv('out_sentences.csv', index=False)"
   ]
  }
 ],
 "metadata": {
  "kernelspec": {
   "display_name": "Python 3 (ipykernel)",
   "language": "python",
   "name": "python3"
  },
  "language_info": {
   "codemirror_mode": {
    "name": "ipython",
    "version": 3
   },
   "file_extension": ".py",
   "mimetype": "text/x-python",
   "name": "python",
   "nbconvert_exporter": "python",
   "pygments_lexer": "ipython3",
   "version": "3.9.13"
  }
 },
 "nbformat": 4,
 "nbformat_minor": 5
}
