{
 "cells": [
  {
   "cell_type": "code",
   "execution_count": 13,
   "metadata": {},
   "outputs": [
    {
     "name": "stdout",
     "output_type": "stream",
     "text": [
      "GIF saved at /Users/skyhou/Documents/GitHub/Animyth/GIF/processed_24.gif\n"
     ]
    }
   ],
   "source": [
    "import cv2\n",
    "import numpy as np\n",
    "from PIL import Image\n",
    "import os\n",
    "\n",
    "def sprite_sheet_to_gif(image_path, output_dir, num_rows, num_cols, frame_duration):\n",
    "    # Load the sprite sheet image in BGRA format\n",
    "    sprite_sheet = cv2.imread(image_path, cv2.IMREAD_UNCHANGED)\n",
    "    if sprite_sheet is None:\n",
    "        print(\"Image not found or unable to read.\")\n",
    "        return\n",
    "\n",
    "    # Get the height and width of each sprite\n",
    "    height, width, channels = sprite_sheet.shape\n",
    "    sprite_height = height // num_rows\n",
    "    sprite_width = width // num_cols\n",
    "\n",
    "    frames = []\n",
    "    # Choose a unique color for the background that does not appear in your sprites\n",
    "    unique_bg_color = (0, 255, 0)  # Bright green as an example\n",
    "    for row in range(num_rows):\n",
    "        for col in range(num_cols):\n",
    "            # Extract each sprite image from the sprite sheet\n",
    "            x = col * sprite_width\n",
    "            y = row * sprite_height\n",
    "            sprite = sprite_sheet[y:y+sprite_height, x:x+sprite_width]\n",
    "\n",
    "            # Ensure sprite is in RGBA format\n",
    "            if channels == 4:  # BGRA to RGBA\n",
    "                sprite = cv2.cvtColor(sprite, cv2.COLOR_BGRA2RGBA)\n",
    "            elif channels == 3:  # BGR to RGBA\n",
    "                sprite = cv2.cvtColor(sprite, cv2.COLOR_BGR2RGBA)\n",
    "\n",
    "            sprite_pil = Image.fromarray(sprite)\n",
    "            \n",
    "            frames.append(sprite_pil)\n",
    "\n",
    "    # Ensure the output directory exists\n",
    "    if not os.path.exists(output_dir):\n",
    "        os.makedirs(output_dir)\n",
    "\n",
    "    # Define the output GIF path\n",
    "    gif_name = os.path.splitext(os.path.basename(image_path))[0] + '.gif'\n",
    "    gif_path = os.path.join(output_dir, gif_name)\n",
    "\n",
    "    # Save the frames as a GIF\n",
    "    frames[0].save(gif_path, format='GIF', save_all=True, append_images=frames[1:], optimize=False, duration=frame_duration, loop=0,transparency=0)\n",
    "\n",
    "    print(f\"GIF saved at {gif_path}\")\n",
    "\n",
    "# Main function\n",
    "def main():\n",
    "    image_path = '/Users/skyhou/Documents/GitHub/Animyth/ReadyToEvaluate/processed_24.png'\n",
    "    output_dir = '/Users/skyhou/Documents/GitHub/Animyth/GIF'\n",
    "    num_rows = int(input(\"Enter the number of rows in the sprite sheet: \"))\n",
    "    num_cols = int(input(\"Enter the number of columns in the sprite sheet: \"))\n",
    "    frame_duration = int(input(\"Enter the duration for each frame in milliseconds: \"))\n",
    "\n",
    "    sprite_sheet_to_gif(image_path, output_dir, num_rows, num_cols, frame_duration)\n",
    "\n",
    "if __name__ == \"__main__\":\n",
    "    main()\n"
   ]
  },
  {
   "cell_type": "code",
   "execution_count": 3,
   "metadata": {},
   "outputs": [],
   "source": [
    "from PIL import Image, ImageDraw\n",
    "def ellipse(x, y, offset):\n",
    "    image = Image.new(\"RGB\", (400, 400), \"blue\")\n",
    "    draw = ImageDraw.Draw(image)\n",
    "    draw.ellipse((x, y, x+offset, y+offset), fill=\"red\")\n",
    "    return image\n",
    "def make_gif():\n",
    "    frames = []\n",
    "    x = 0\n",
    "    y = 0\n",
    "    offset = 50\n",
    "    for number in range(20):\n",
    "        frames.append(ellipse(x, y, offset))\n",
    "        x += 35\n",
    "        y += 35\n",
    "        \n",
    "    frame_one = frames[0]\n",
    "    frame_one.save(\"circle.gif\", format=\"GIF\", append_images=frames,\n",
    "                   save_all=True, duration=100, loop=0)\n",
    "    \n",
    "if __name__ == \"__main__\":\n",
    "    make_gif()"
   ]
  }
 ],
 "metadata": {
  "kernelspec": {
   "display_name": "hotot",
   "language": "python",
   "name": "python3"
  },
  "language_info": {
   "codemirror_mode": {
    "name": "ipython",
    "version": 3
   },
   "file_extension": ".py",
   "mimetype": "text/x-python",
   "name": "python",
   "nbconvert_exporter": "python",
   "pygments_lexer": "ipython3",
   "version": "3.10.9"
  }
 },
 "nbformat": 4,
 "nbformat_minor": 2
}
